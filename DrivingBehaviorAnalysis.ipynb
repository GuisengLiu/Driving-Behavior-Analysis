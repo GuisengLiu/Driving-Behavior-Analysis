{
 "cells": [
  {
   "cell_type": "code",
   "execution_count": 142,
   "metadata": {},
   "outputs": [],
   "source": [
    "import pandas as pd\n",
    "import numpy as np\n",
    "import matplotlib.pyplot as plt\n",
    "import seaborn as sns"
   ]
  },
  {
   "cell_type": "code",
   "execution_count": 143,
   "metadata": {},
   "outputs": [],
   "source": [
    "cols = ['Id','Datetime','Latitude','Longitude']\n",
    "df = pd.read_csv('C:\\\\Users\\\\DELL\\\\Desktop\\\\ProjectDemo\\\\1.txt',names=cols,header=None)"
   ]
  },
  {
   "cell_type": "code",
   "execution_count": 144,
   "metadata": {},
   "outputs": [
    {
     "data": {
      "text/html": [
       "<div>\n",
       "<style scoped>\n",
       "    .dataframe tbody tr th:only-of-type {\n",
       "        vertical-align: middle;\n",
       "    }\n",
       "\n",
       "    .dataframe tbody tr th {\n",
       "        vertical-align: top;\n",
       "    }\n",
       "\n",
       "    .dataframe thead th {\n",
       "        text-align: right;\n",
       "    }\n",
       "</style>\n",
       "<table border=\"1\" class=\"dataframe\">\n",
       "  <thead>\n",
       "    <tr style=\"text-align: right;\">\n",
       "      <th></th>\n",
       "      <th>Id</th>\n",
       "      <th>Datetime</th>\n",
       "      <th>Latitude</th>\n",
       "      <th>Longitude</th>\n",
       "    </tr>\n",
       "  </thead>\n",
       "  <tbody>\n",
       "    <tr>\n",
       "      <th>0</th>\n",
       "      <td>1</td>\n",
       "      <td>2008-02-02 15:36:08</td>\n",
       "      <td>116.51172</td>\n",
       "      <td>39.92123</td>\n",
       "    </tr>\n",
       "    <tr>\n",
       "      <th>1</th>\n",
       "      <td>1</td>\n",
       "      <td>2008-02-02 15:46:08</td>\n",
       "      <td>116.51135</td>\n",
       "      <td>39.93883</td>\n",
       "    </tr>\n",
       "    <tr>\n",
       "      <th>2</th>\n",
       "      <td>1</td>\n",
       "      <td>2008-02-02 15:46:08</td>\n",
       "      <td>116.51135</td>\n",
       "      <td>39.93883</td>\n",
       "    </tr>\n",
       "    <tr>\n",
       "      <th>3</th>\n",
       "      <td>1</td>\n",
       "      <td>2008-02-02 15:56:08</td>\n",
       "      <td>116.51627</td>\n",
       "      <td>39.91034</td>\n",
       "    </tr>\n",
       "    <tr>\n",
       "      <th>4</th>\n",
       "      <td>1</td>\n",
       "      <td>2008-02-02 16:06:08</td>\n",
       "      <td>116.47186</td>\n",
       "      <td>39.91248</td>\n",
       "    </tr>\n",
       "  </tbody>\n",
       "</table>\n",
       "</div>"
      ],
      "text/plain": [
       "   Id             Datetime   Latitude  Longitude\n",
       "0   1  2008-02-02 15:36:08  116.51172   39.92123\n",
       "1   1  2008-02-02 15:46:08  116.51135   39.93883\n",
       "2   1  2008-02-02 15:46:08  116.51135   39.93883\n",
       "3   1  2008-02-02 15:56:08  116.51627   39.91034\n",
       "4   1  2008-02-02 16:06:08  116.47186   39.91248"
      ]
     },
     "execution_count": 144,
     "metadata": {},
     "output_type": "execute_result"
    }
   ],
   "source": [
    "df.head()"
   ]
  },
  {
   "cell_type": "code",
   "execution_count": 145,
   "metadata": {},
   "outputs": [
    {
     "data": {
      "text/plain": [
       "(588, 4)"
      ]
     },
     "execution_count": 145,
     "metadata": {},
     "output_type": "execute_result"
    }
   ],
   "source": [
    "df.shape"
   ]
  },
  {
   "cell_type": "code",
   "execution_count": 146,
   "metadata": {},
   "outputs": [
    {
     "name": "stdout",
     "output_type": "stream",
     "text": [
      "timestamp = 1592754200.838222\n"
     ]
    }
   ],
   "source": [
    "from datetime import datetime\n",
    "now = datetime.now()\n",
    "timestamp = datetime.timestamp(now)\n",
    "print(\"timestamp =\", timestamp)"
   ]
  },
  {
   "cell_type": "code",
   "execution_count": 147,
   "metadata": {},
   "outputs": [],
   "source": [
    "str = df['Datetime'][0]"
   ]
  },
  {
   "cell_type": "code",
   "execution_count": 148,
   "metadata": {},
   "outputs": [
    {
     "name": "stdout",
     "output_type": "stream",
     "text": [
      "2008-02-02 15:36:08\n"
     ]
    }
   ],
   "source": [
    "print(str)"
   ]
  },
  {
   "cell_type": "code",
   "execution_count": 149,
   "metadata": {},
   "outputs": [],
   "source": [
    "date_time_obj = datetime.strptime(str, '%Y-%m-%d %H:%M:%S')"
   ]
  },
  {
   "cell_type": "code",
   "execution_count": 150,
   "metadata": {},
   "outputs": [
    {
     "name": "stdout",
     "output_type": "stream",
     "text": [
      "2008-02-02 15:36:08\n"
     ]
    }
   ],
   "source": [
    "print(date_time_obj)"
   ]
  },
  {
   "cell_type": "code",
   "execution_count": 151,
   "metadata": {},
   "outputs": [],
   "source": [
    "ts = datetime.timestamp(date_time_obj)"
   ]
  },
  {
   "cell_type": "code",
   "execution_count": 152,
   "metadata": {},
   "outputs": [
    {
     "name": "stdout",
     "output_type": "stream",
     "text": [
      "1201946768.0\n"
     ]
    }
   ],
   "source": [
    "print(ts)"
   ]
  },
  {
   "cell_type": "code",
   "execution_count": 153,
   "metadata": {},
   "outputs": [
    {
     "data": {
      "text/plain": [
       "dtype('O')"
      ]
     },
     "execution_count": 153,
     "metadata": {},
     "output_type": "execute_result"
    }
   ],
   "source": [
    "df.Datetime.dtype"
   ]
  },
  {
   "cell_type": "code",
   "execution_count": 154,
   "metadata": {},
   "outputs": [],
   "source": [
    "df['Datetime'] =  pd.to_datetime(df['Datetime'], format='%Y-%m-%d %H:%M:%S')"
   ]
  },
  {
   "cell_type": "code",
   "execution_count": 155,
   "metadata": {},
   "outputs": [
    {
     "data": {
      "text/plain": [
       "dtype('<M8[ns]')"
      ]
     },
     "execution_count": 155,
     "metadata": {},
     "output_type": "execute_result"
    }
   ],
   "source": [
    "df.Datetime.dtype"
   ]
  },
  {
   "cell_type": "code",
   "execution_count": 156,
   "metadata": {},
   "outputs": [
    {
     "data": {
      "text/plain": [
       "Timestamp('2008-02-02 15:36:08')"
      ]
     },
     "execution_count": 156,
     "metadata": {},
     "output_type": "execute_result"
    }
   ],
   "source": [
    "df['Datetime'][0]"
   ]
  },
  {
   "cell_type": "code",
   "execution_count": 157,
   "metadata": {},
   "outputs": [
    {
     "name": "stdout",
     "output_type": "stream",
     "text": [
      "1201946768.0\n"
     ]
    }
   ],
   "source": [
    "print(datetime.timestamp(df['Datetime'][0]))"
   ]
  },
  {
   "cell_type": "code",
   "execution_count": 158,
   "metadata": {},
   "outputs": [
    {
     "data": {
      "text/html": [
       "<div>\n",
       "<style scoped>\n",
       "    .dataframe tbody tr th:only-of-type {\n",
       "        vertical-align: middle;\n",
       "    }\n",
       "\n",
       "    .dataframe tbody tr th {\n",
       "        vertical-align: top;\n",
       "    }\n",
       "\n",
       "    .dataframe thead th {\n",
       "        text-align: right;\n",
       "    }\n",
       "</style>\n",
       "<table border=\"1\" class=\"dataframe\">\n",
       "  <thead>\n",
       "    <tr style=\"text-align: right;\">\n",
       "      <th></th>\n",
       "      <th>Id</th>\n",
       "      <th>Datetime</th>\n",
       "      <th>Latitude</th>\n",
       "      <th>Longitude</th>\n",
       "    </tr>\n",
       "  </thead>\n",
       "  <tbody>\n",
       "    <tr>\n",
       "      <th>0</th>\n",
       "      <td>1</td>\n",
       "      <td>2008-02-02 15:36:08</td>\n",
       "      <td>116.51172</td>\n",
       "      <td>39.92123</td>\n",
       "    </tr>\n",
       "    <tr>\n",
       "      <th>1</th>\n",
       "      <td>1</td>\n",
       "      <td>2008-02-02 15:46:08</td>\n",
       "      <td>116.51135</td>\n",
       "      <td>39.93883</td>\n",
       "    </tr>\n",
       "    <tr>\n",
       "      <th>2</th>\n",
       "      <td>1</td>\n",
       "      <td>2008-02-02 15:46:08</td>\n",
       "      <td>116.51135</td>\n",
       "      <td>39.93883</td>\n",
       "    </tr>\n",
       "    <tr>\n",
       "      <th>3</th>\n",
       "      <td>1</td>\n",
       "      <td>2008-02-02 15:56:08</td>\n",
       "      <td>116.51627</td>\n",
       "      <td>39.91034</td>\n",
       "    </tr>\n",
       "    <tr>\n",
       "      <th>4</th>\n",
       "      <td>1</td>\n",
       "      <td>2008-02-02 16:06:08</td>\n",
       "      <td>116.47186</td>\n",
       "      <td>39.91248</td>\n",
       "    </tr>\n",
       "  </tbody>\n",
       "</table>\n",
       "</div>"
      ],
      "text/plain": [
       "   Id            Datetime   Latitude  Longitude\n",
       "0   1 2008-02-02 15:36:08  116.51172   39.92123\n",
       "1   1 2008-02-02 15:46:08  116.51135   39.93883\n",
       "2   1 2008-02-02 15:46:08  116.51135   39.93883\n",
       "3   1 2008-02-02 15:56:08  116.51627   39.91034\n",
       "4   1 2008-02-02 16:06:08  116.47186   39.91248"
      ]
     },
     "execution_count": 158,
     "metadata": {},
     "output_type": "execute_result"
    }
   ],
   "source": [
    "df.head()"
   ]
  },
  {
   "cell_type": "code",
   "execution_count": 159,
   "metadata": {},
   "outputs": [],
   "source": [
    "df['Timestamp']=df['Datetime']"
   ]
  },
  {
   "cell_type": "code",
   "execution_count": 160,
   "metadata": {},
   "outputs": [
    {
     "data": {
      "text/html": [
       "<div>\n",
       "<style scoped>\n",
       "    .dataframe tbody tr th:only-of-type {\n",
       "        vertical-align: middle;\n",
       "    }\n",
       "\n",
       "    .dataframe tbody tr th {\n",
       "        vertical-align: top;\n",
       "    }\n",
       "\n",
       "    .dataframe thead th {\n",
       "        text-align: right;\n",
       "    }\n",
       "</style>\n",
       "<table border=\"1\" class=\"dataframe\">\n",
       "  <thead>\n",
       "    <tr style=\"text-align: right;\">\n",
       "      <th></th>\n",
       "      <th>Id</th>\n",
       "      <th>Datetime</th>\n",
       "      <th>Latitude</th>\n",
       "      <th>Longitude</th>\n",
       "      <th>Timestamp</th>\n",
       "    </tr>\n",
       "  </thead>\n",
       "  <tbody>\n",
       "    <tr>\n",
       "      <th>0</th>\n",
       "      <td>1</td>\n",
       "      <td>2008-02-02 15:36:08</td>\n",
       "      <td>116.51172</td>\n",
       "      <td>39.92123</td>\n",
       "      <td>2008-02-02 15:36:08</td>\n",
       "    </tr>\n",
       "    <tr>\n",
       "      <th>1</th>\n",
       "      <td>1</td>\n",
       "      <td>2008-02-02 15:46:08</td>\n",
       "      <td>116.51135</td>\n",
       "      <td>39.93883</td>\n",
       "      <td>2008-02-02 15:46:08</td>\n",
       "    </tr>\n",
       "    <tr>\n",
       "      <th>2</th>\n",
       "      <td>1</td>\n",
       "      <td>2008-02-02 15:46:08</td>\n",
       "      <td>116.51135</td>\n",
       "      <td>39.93883</td>\n",
       "      <td>2008-02-02 15:46:08</td>\n",
       "    </tr>\n",
       "    <tr>\n",
       "      <th>3</th>\n",
       "      <td>1</td>\n",
       "      <td>2008-02-02 15:56:08</td>\n",
       "      <td>116.51627</td>\n",
       "      <td>39.91034</td>\n",
       "      <td>2008-02-02 15:56:08</td>\n",
       "    </tr>\n",
       "    <tr>\n",
       "      <th>4</th>\n",
       "      <td>1</td>\n",
       "      <td>2008-02-02 16:06:08</td>\n",
       "      <td>116.47186</td>\n",
       "      <td>39.91248</td>\n",
       "      <td>2008-02-02 16:06:08</td>\n",
       "    </tr>\n",
       "  </tbody>\n",
       "</table>\n",
       "</div>"
      ],
      "text/plain": [
       "   Id            Datetime   Latitude  Longitude           Timestamp\n",
       "0   1 2008-02-02 15:36:08  116.51172   39.92123 2008-02-02 15:36:08\n",
       "1   1 2008-02-02 15:46:08  116.51135   39.93883 2008-02-02 15:46:08\n",
       "2   1 2008-02-02 15:46:08  116.51135   39.93883 2008-02-02 15:46:08\n",
       "3   1 2008-02-02 15:56:08  116.51627   39.91034 2008-02-02 15:56:08\n",
       "4   1 2008-02-02 16:06:08  116.47186   39.91248 2008-02-02 16:06:08"
      ]
     },
     "execution_count": 160,
     "metadata": {},
     "output_type": "execute_result"
    }
   ],
   "source": [
    "df.head()"
   ]
  },
  {
   "cell_type": "code",
   "execution_count": 161,
   "metadata": {},
   "outputs": [],
   "source": [
    "def function(row):\n",
    "    return datetime.timestamp(row['Timestamp'])"
   ]
  },
  {
   "cell_type": "code",
   "execution_count": 162,
   "metadata": {},
   "outputs": [],
   "source": [
    "df['Timestamp'] = df.apply(function,axis=1)"
   ]
  },
  {
   "cell_type": "code",
   "execution_count": 163,
   "metadata": {},
   "outputs": [
    {
     "data": {
      "text/html": [
       "<div>\n",
       "<style scoped>\n",
       "    .dataframe tbody tr th:only-of-type {\n",
       "        vertical-align: middle;\n",
       "    }\n",
       "\n",
       "    .dataframe tbody tr th {\n",
       "        vertical-align: top;\n",
       "    }\n",
       "\n",
       "    .dataframe thead th {\n",
       "        text-align: right;\n",
       "    }\n",
       "</style>\n",
       "<table border=\"1\" class=\"dataframe\">\n",
       "  <thead>\n",
       "    <tr style=\"text-align: right;\">\n",
       "      <th></th>\n",
       "      <th>Id</th>\n",
       "      <th>Datetime</th>\n",
       "      <th>Latitude</th>\n",
       "      <th>Longitude</th>\n",
       "      <th>Timestamp</th>\n",
       "    </tr>\n",
       "  </thead>\n",
       "  <tbody>\n",
       "    <tr>\n",
       "      <th>0</th>\n",
       "      <td>1</td>\n",
       "      <td>2008-02-02 15:36:08</td>\n",
       "      <td>116.51172</td>\n",
       "      <td>39.92123</td>\n",
       "      <td>1.201947e+09</td>\n",
       "    </tr>\n",
       "    <tr>\n",
       "      <th>1</th>\n",
       "      <td>1</td>\n",
       "      <td>2008-02-02 15:46:08</td>\n",
       "      <td>116.51135</td>\n",
       "      <td>39.93883</td>\n",
       "      <td>1.201947e+09</td>\n",
       "    </tr>\n",
       "    <tr>\n",
       "      <th>2</th>\n",
       "      <td>1</td>\n",
       "      <td>2008-02-02 15:46:08</td>\n",
       "      <td>116.51135</td>\n",
       "      <td>39.93883</td>\n",
       "      <td>1.201947e+09</td>\n",
       "    </tr>\n",
       "    <tr>\n",
       "      <th>3</th>\n",
       "      <td>1</td>\n",
       "      <td>2008-02-02 15:56:08</td>\n",
       "      <td>116.51627</td>\n",
       "      <td>39.91034</td>\n",
       "      <td>1.201948e+09</td>\n",
       "    </tr>\n",
       "    <tr>\n",
       "      <th>4</th>\n",
       "      <td>1</td>\n",
       "      <td>2008-02-02 16:06:08</td>\n",
       "      <td>116.47186</td>\n",
       "      <td>39.91248</td>\n",
       "      <td>1.201949e+09</td>\n",
       "    </tr>\n",
       "  </tbody>\n",
       "</table>\n",
       "</div>"
      ],
      "text/plain": [
       "   Id            Datetime   Latitude  Longitude     Timestamp\n",
       "0   1 2008-02-02 15:36:08  116.51172   39.92123  1.201947e+09\n",
       "1   1 2008-02-02 15:46:08  116.51135   39.93883  1.201947e+09\n",
       "2   1 2008-02-02 15:46:08  116.51135   39.93883  1.201947e+09\n",
       "3   1 2008-02-02 15:56:08  116.51627   39.91034  1.201948e+09\n",
       "4   1 2008-02-02 16:06:08  116.47186   39.91248  1.201949e+09"
      ]
     },
     "execution_count": 163,
     "metadata": {},
     "output_type": "execute_result"
    }
   ],
   "source": [
    "df.head()"
   ]
  },
  {
   "cell_type": "code",
   "execution_count": 164,
   "metadata": {},
   "outputs": [],
   "source": [
    "new_df = df.drop(['Datetime'],axis=1,inplace=False)"
   ]
  },
  {
   "cell_type": "code",
   "execution_count": 165,
   "metadata": {},
   "outputs": [
    {
     "data": {
      "text/html": [
       "<div>\n",
       "<style scoped>\n",
       "    .dataframe tbody tr th:only-of-type {\n",
       "        vertical-align: middle;\n",
       "    }\n",
       "\n",
       "    .dataframe tbody tr th {\n",
       "        vertical-align: top;\n",
       "    }\n",
       "\n",
       "    .dataframe thead th {\n",
       "        text-align: right;\n",
       "    }\n",
       "</style>\n",
       "<table border=\"1\" class=\"dataframe\">\n",
       "  <thead>\n",
       "    <tr style=\"text-align: right;\">\n",
       "      <th></th>\n",
       "      <th>Id</th>\n",
       "      <th>Latitude</th>\n",
       "      <th>Longitude</th>\n",
       "      <th>Timestamp</th>\n",
       "    </tr>\n",
       "  </thead>\n",
       "  <tbody>\n",
       "    <tr>\n",
       "      <th>0</th>\n",
       "      <td>1</td>\n",
       "      <td>116.51172</td>\n",
       "      <td>39.92123</td>\n",
       "      <td>1.201947e+09</td>\n",
       "    </tr>\n",
       "    <tr>\n",
       "      <th>1</th>\n",
       "      <td>1</td>\n",
       "      <td>116.51135</td>\n",
       "      <td>39.93883</td>\n",
       "      <td>1.201947e+09</td>\n",
       "    </tr>\n",
       "    <tr>\n",
       "      <th>2</th>\n",
       "      <td>1</td>\n",
       "      <td>116.51135</td>\n",
       "      <td>39.93883</td>\n",
       "      <td>1.201947e+09</td>\n",
       "    </tr>\n",
       "    <tr>\n",
       "      <th>3</th>\n",
       "      <td>1</td>\n",
       "      <td>116.51627</td>\n",
       "      <td>39.91034</td>\n",
       "      <td>1.201948e+09</td>\n",
       "    </tr>\n",
       "    <tr>\n",
       "      <th>4</th>\n",
       "      <td>1</td>\n",
       "      <td>116.47186</td>\n",
       "      <td>39.91248</td>\n",
       "      <td>1.201949e+09</td>\n",
       "    </tr>\n",
       "  </tbody>\n",
       "</table>\n",
       "</div>"
      ],
      "text/plain": [
       "   Id   Latitude  Longitude     Timestamp\n",
       "0   1  116.51172   39.92123  1.201947e+09\n",
       "1   1  116.51135   39.93883  1.201947e+09\n",
       "2   1  116.51135   39.93883  1.201947e+09\n",
       "3   1  116.51627   39.91034  1.201948e+09\n",
       "4   1  116.47186   39.91248  1.201949e+09"
      ]
     },
     "execution_count": 165,
     "metadata": {},
     "output_type": "execute_result"
    }
   ],
   "source": [
    "new_df.head()"
   ]
  },
  {
   "cell_type": "code",
   "execution_count": 166,
   "metadata": {},
   "outputs": [
    {
     "name": "stdout",
     "output_type": "stream",
     "text": [
      "588\n"
     ]
    }
   ],
   "source": [
    "print(new_df.shape[0])"
   ]
  },
  {
   "cell_type": "code",
   "execution_count": 167,
   "metadata": {},
   "outputs": [],
   "source": [
    "new_df.drop_duplicates(['Latitude','Longitude','Timestamp'], keep='first', inplace = True)"
   ]
  },
  {
   "cell_type": "code",
   "execution_count": 168,
   "metadata": {},
   "outputs": [
    {
     "data": {
      "text/html": [
       "<div>\n",
       "<style scoped>\n",
       "    .dataframe tbody tr th:only-of-type {\n",
       "        vertical-align: middle;\n",
       "    }\n",
       "\n",
       "    .dataframe tbody tr th {\n",
       "        vertical-align: top;\n",
       "    }\n",
       "\n",
       "    .dataframe thead th {\n",
       "        text-align: right;\n",
       "    }\n",
       "</style>\n",
       "<table border=\"1\" class=\"dataframe\">\n",
       "  <thead>\n",
       "    <tr style=\"text-align: right;\">\n",
       "      <th></th>\n",
       "      <th>Id</th>\n",
       "      <th>Latitude</th>\n",
       "      <th>Longitude</th>\n",
       "      <th>Timestamp</th>\n",
       "    </tr>\n",
       "  </thead>\n",
       "  <tbody>\n",
       "    <tr>\n",
       "      <th>0</th>\n",
       "      <td>1</td>\n",
       "      <td>116.51172</td>\n",
       "      <td>39.92123</td>\n",
       "      <td>1.201947e+09</td>\n",
       "    </tr>\n",
       "    <tr>\n",
       "      <th>1</th>\n",
       "      <td>1</td>\n",
       "      <td>116.51135</td>\n",
       "      <td>39.93883</td>\n",
       "      <td>1.201947e+09</td>\n",
       "    </tr>\n",
       "    <tr>\n",
       "      <th>3</th>\n",
       "      <td>1</td>\n",
       "      <td>116.51627</td>\n",
       "      <td>39.91034</td>\n",
       "      <td>1.201948e+09</td>\n",
       "    </tr>\n",
       "    <tr>\n",
       "      <th>4</th>\n",
       "      <td>1</td>\n",
       "      <td>116.47186</td>\n",
       "      <td>39.91248</td>\n",
       "      <td>1.201949e+09</td>\n",
       "    </tr>\n",
       "    <tr>\n",
       "      <th>5</th>\n",
       "      <td>1</td>\n",
       "      <td>116.47217</td>\n",
       "      <td>39.92498</td>\n",
       "      <td>1.201949e+09</td>\n",
       "    </tr>\n",
       "  </tbody>\n",
       "</table>\n",
       "</div>"
      ],
      "text/plain": [
       "   Id   Latitude  Longitude     Timestamp\n",
       "0   1  116.51172   39.92123  1.201947e+09\n",
       "1   1  116.51135   39.93883  1.201947e+09\n",
       "3   1  116.51627   39.91034  1.201948e+09\n",
       "4   1  116.47186   39.91248  1.201949e+09\n",
       "5   1  116.47217   39.92498  1.201949e+09"
      ]
     },
     "execution_count": 168,
     "metadata": {},
     "output_type": "execute_result"
    }
   ],
   "source": [
    "new_df.head()"
   ]
  },
  {
   "cell_type": "code",
   "execution_count": 169,
   "metadata": {},
   "outputs": [],
   "source": [
    "new_df.reset_index(inplace=True)"
   ]
  },
  {
   "cell_type": "code",
   "execution_count": 170,
   "metadata": {},
   "outputs": [
    {
     "data": {
      "text/html": [
       "<div>\n",
       "<style scoped>\n",
       "    .dataframe tbody tr th:only-of-type {\n",
       "        vertical-align: middle;\n",
       "    }\n",
       "\n",
       "    .dataframe tbody tr th {\n",
       "        vertical-align: top;\n",
       "    }\n",
       "\n",
       "    .dataframe thead th {\n",
       "        text-align: right;\n",
       "    }\n",
       "</style>\n",
       "<table border=\"1\" class=\"dataframe\">\n",
       "  <thead>\n",
       "    <tr style=\"text-align: right;\">\n",
       "      <th></th>\n",
       "      <th>index</th>\n",
       "      <th>Id</th>\n",
       "      <th>Latitude</th>\n",
       "      <th>Longitude</th>\n",
       "      <th>Timestamp</th>\n",
       "    </tr>\n",
       "  </thead>\n",
       "  <tbody>\n",
       "    <tr>\n",
       "      <th>0</th>\n",
       "      <td>0</td>\n",
       "      <td>1</td>\n",
       "      <td>116.51172</td>\n",
       "      <td>39.92123</td>\n",
       "      <td>1.201947e+09</td>\n",
       "    </tr>\n",
       "    <tr>\n",
       "      <th>1</th>\n",
       "      <td>1</td>\n",
       "      <td>1</td>\n",
       "      <td>116.51135</td>\n",
       "      <td>39.93883</td>\n",
       "      <td>1.201947e+09</td>\n",
       "    </tr>\n",
       "    <tr>\n",
       "      <th>2</th>\n",
       "      <td>3</td>\n",
       "      <td>1</td>\n",
       "      <td>116.51627</td>\n",
       "      <td>39.91034</td>\n",
       "      <td>1.201948e+09</td>\n",
       "    </tr>\n",
       "    <tr>\n",
       "      <th>3</th>\n",
       "      <td>4</td>\n",
       "      <td>1</td>\n",
       "      <td>116.47186</td>\n",
       "      <td>39.91248</td>\n",
       "      <td>1.201949e+09</td>\n",
       "    </tr>\n",
       "    <tr>\n",
       "      <th>4</th>\n",
       "      <td>5</td>\n",
       "      <td>1</td>\n",
       "      <td>116.47217</td>\n",
       "      <td>39.92498</td>\n",
       "      <td>1.201949e+09</td>\n",
       "    </tr>\n",
       "  </tbody>\n",
       "</table>\n",
       "</div>"
      ],
      "text/plain": [
       "   index  Id   Latitude  Longitude     Timestamp\n",
       "0      0   1  116.51172   39.92123  1.201947e+09\n",
       "1      1   1  116.51135   39.93883  1.201947e+09\n",
       "2      3   1  116.51627   39.91034  1.201948e+09\n",
       "3      4   1  116.47186   39.91248  1.201949e+09\n",
       "4      5   1  116.47217   39.92498  1.201949e+09"
      ]
     },
     "execution_count": 170,
     "metadata": {},
     "output_type": "execute_result"
    }
   ],
   "source": [
    "new_df.head()"
   ]
  },
  {
   "cell_type": "code",
   "execution_count": 171,
   "metadata": {},
   "outputs": [
    {
     "name": "stdout",
     "output_type": "stream",
     "text": [
      "564\n"
     ]
    }
   ],
   "source": [
    "print(new_df.shape[0])"
   ]
  },
  {
   "cell_type": "code",
   "execution_count": 172,
   "metadata": {},
   "outputs": [],
   "source": [
    "n = new_df.shape[0]\n",
    "eRad = 6371000"
   ]
  },
  {
   "cell_type": "code",
   "execution_count": 173,
   "metadata": {},
   "outputs": [],
   "source": [
    "import math\n",
    "import numpy as np\n",
    "import sys"
   ]
  },
  {
   "cell_type": "code",
   "execution_count": 174,
   "metadata": {},
   "outputs": [],
   "source": [
    "dist = []\n",
    "speed = []\n",
    "for i in range (1,n):\n",
    "    var = math.sin((new_df['Latitude'][i]-new_df['Latitude'][i-1])/2)**2+math.cos(new_df['Latitude'][i])*math.cos(new_df['Latitude'][i-1])*math.sin((new_df['Longitude'][i]-new_df['Longitude'][i-1])/2)**2\n",
    "    dtime = (new_df['Timestamp'][i]-new_df['Timestamp'][i-1])\n",
    "    dist.append(np.float64(2*eRad*math.atan2(math.sqrt(var),math.sqrt(1-var))))\n",
    "    speed.append(dist[-1]/dtime)"
   ]
  },
  {
   "cell_type": "code",
   "execution_count": 175,
   "metadata": {},
   "outputs": [],
   "source": [
    "states = []\n",
    "thres = 4\n",
    "for i in range(0,len(speed)):\n",
    "    diff = speed[i]-speed[i-1]\n",
    "    if diff>thres:\n",
    "        states.append(\"Acc\")\n",
    "    elif diff<(-1)*thres :\n",
    "        states.append(\"Decc\")\n",
    "    else:\n",
    "       states.append(\"Const\")    "
   ]
  },
  {
   "cell_type": "code",
   "execution_count": 176,
   "metadata": {},
   "outputs": [
    {
     "name": "stdout",
     "output_type": "stream",
     "text": [
      "['Decc', 'Acc', 'Acc', 'Decc', 'Acc', 'Decc', 'Decc', 'Acc', 'Decc', 'Acc', 'Const', 'Acc', 'Decc', 'Acc', 'Acc', 'Decc', 'Const', 'Const', 'Const', 'Const', 'Const', 'Const', 'Const', 'Const', 'Const', 'Const', 'Const', 'Const', 'Const', 'Const', 'Const', 'Const', 'Const', 'Const', 'Const', 'Const', 'Const', 'Const', 'Const', 'Const', 'Const', 'Const', 'Const', 'Const', 'Const', 'Const', 'Const', 'Const', 'Const', 'Const', 'Const', 'Const', 'Const', 'Const', 'Const', 'Const', 'Decc', 'Const', 'Const', 'Const', 'Const', 'Const', 'Decc', 'Const', 'Const', 'Const', 'Const', 'Const', 'Const', 'Const', 'Const', 'Const', 'Const', 'Const', 'Const', 'Acc', 'Const', 'Const', 'Const', 'Const', 'Const', 'Const', 'Acc', 'Acc', 'Acc', 'Decc', 'Decc', 'Decc', 'Decc', 'Acc', 'Decc', 'Decc', 'Decc', 'Acc', 'Decc', 'Acc', 'Acc', 'Decc', 'Decc', 'Const', 'Const', 'Const', 'Const', 'Const', 'Const', 'Const', 'Const', 'Const', 'Const', 'Const', 'Const', 'Const', 'Const', 'Const', 'Const', 'Const', 'Const', 'Const', 'Const', 'Const', 'Const', 'Const', 'Const', 'Const', 'Const', 'Const', 'Const', 'Const', 'Const', 'Const', 'Const', 'Const', 'Const', 'Const', 'Const', 'Const', 'Const', 'Const', 'Const', 'Const', 'Const', 'Const', 'Const', 'Const', 'Const', 'Const', 'Const', 'Const', 'Const', 'Const', 'Const', 'Const', 'Const', 'Const', 'Const', 'Const', 'Const', 'Const', 'Const', 'Const', 'Const', 'Const', 'Const', 'Const', 'Const', 'Const', 'Const', 'Const', 'Const', 'Const', 'Const', 'Const', 'Const', 'Const', 'Const', 'Const', 'Const', 'Const', 'Const', 'Const', 'Const', 'Const', 'Const', 'Const', 'Acc', 'Acc', 'Acc', 'Decc', 'Decc', 'Decc', 'Decc', 'Acc', 'Decc', 'Acc', 'Decc', 'Const', 'Const', 'Const', 'Const', 'Const', 'Const', 'Const', 'Const', 'Const', 'Const', 'Const', 'Const', 'Const', 'Const', 'Const', 'Const', 'Const', 'Const', 'Const', 'Const', 'Const', 'Const', 'Const', 'Const', 'Const', 'Const', 'Const', 'Const', 'Const', 'Const', 'Const', 'Const', 'Const', 'Const', 'Const', 'Const', 'Const', 'Const', 'Const', 'Const', 'Const', 'Const', 'Const', 'Const', 'Const', 'Const', 'Const', 'Const', 'Const', 'Const', 'Const', 'Const', 'Const', 'Const', 'Const', 'Const', 'Const', 'Const', 'Const', 'Const', 'Const', 'Const', 'Const', 'Const', 'Const', 'Const', 'Const', 'Acc', 'Acc', 'Decc', 'Decc', 'Acc', 'Decc', 'Decc', 'Acc', 'Decc', 'Acc', 'Decc', 'Acc', 'Acc', 'Decc', 'Acc', 'Decc', 'Acc', 'Decc', 'Decc', 'Acc', 'Decc', 'Acc', 'Acc', 'Decc', 'Decc', 'Acc', 'Decc', 'Acc', 'Acc', 'Decc', 'Acc', 'Acc', 'Decc', 'Acc', 'Decc', 'Acc', 'Decc', 'Acc', 'Decc', 'Const', 'Const', 'Const', 'Const', 'Const', 'Const', 'Const', 'Const', 'Const', 'Const', 'Const', 'Const', 'Const', 'Const', 'Const', 'Const', 'Const', 'Const', 'Const', 'Const', 'Const', 'Const', 'Const', 'Const', 'Const', 'Const', 'Const', 'Const', 'Const', 'Const', 'Const', 'Const', 'Const', 'Const', 'Const', 'Const', 'Const', 'Const', 'Const', 'Const', 'Const', 'Const', 'Const', 'Const', 'Const', 'Const', 'Const', 'Const', 'Const', 'Const', 'Const', 'Const', 'Const', 'Const', 'Const', 'Const', 'Const', 'Const', 'Const', 'Const', 'Const', 'Const', 'Const', 'Const', 'Const', 'Acc', 'Acc', 'Decc', 'Decc', 'Acc', 'Acc', 'Acc', 'Acc', 'Decc', 'Decc', 'Decc', 'Decc', 'Decc', 'Const', 'Acc', 'Acc', 'Decc', 'Acc', 'Acc', 'Decc', 'Decc', 'Const', 'Const', 'Const', 'Const', 'Const', 'Const', 'Const', 'Const', 'Const', 'Const', 'Const', 'Const', 'Const', 'Const', 'Const', 'Const', 'Const', 'Const', 'Const', 'Const', 'Decc', 'Acc', 'Const', 'Const', 'Const', 'Const', 'Const', 'Const', 'Const', 'Const', 'Const', 'Const', 'Const', 'Decc', 'Acc', 'Const', 'Decc', 'Const', 'Const', 'Const', 'Const', 'Const', 'Const', 'Const', 'Const', 'Const', 'Decc', 'Const', 'Const', 'Const', 'Const', 'Const', 'Const', 'Const', 'Acc', 'Const', 'Decc', 'Const', 'Decc', 'Const', 'Const', 'Const', 'Const', 'Const', 'Acc', 'Acc', 'Decc', 'Acc', 'Decc', 'Acc', 'Decc', 'Acc', 'Acc', 'Acc', 'Decc', 'Acc', 'Decc', 'Decc', 'Const', 'Const', 'Const', 'Const', 'Const', 'Const', 'Const', 'Const', 'Const', 'Const', 'Const', 'Const', 'Const', 'Const', 'Const', 'Const', 'Const', 'Const', 'Const', 'Const', 'Const', 'Const', 'Const', 'Const', 'Const', 'Const', 'Const', 'Acc', 'Const', 'Decc', 'Const', 'Const', 'Const', 'Const', 'Const', 'Const', 'Const', 'Const', 'Const', 'Const', 'Const', 'Const', 'Const', 'Const', 'Const', 'Const', 'Const', 'Const', 'Const', 'Const', 'Const', 'Acc', 'Const', 'Acc', 'Decc', 'Const', 'Const', 'Const', 'Const', 'Const', 'Const', 'Const', 'Const', 'Const', 'Const', 'Const', 'Const', 'Const', 'Const', 'Const', 'Const', 'Const', 'Const', 'Const', 'Const', 'Const', 'Const', 'Const', 'Const', 'Const', 'Const', 'Const', 'Const', 'Const', 'Const', 'Acc', 'Acc', 'Decc', 'Decc', 'Acc', 'Acc', 'Acc', 'Decc', 'Acc', 'Decc', 'Acc', 'Acc', 'Decc']\n"
     ]
    }
   ],
   "source": [
    "print(states)"
   ]
  },
  {
   "cell_type": "code",
   "execution_count": 177,
   "metadata": {},
   "outputs": [],
   "source": [
    "angle=[]\n",
    "for i in range (1,n):\n",
    "    deltaL=df['Longitude'][i]-df['Longitude'][i-1]\n",
    "    phi2=df['Latitude'][i]\n",
    "    phi1=df['Latitude'][i-1]\n",
    "    angle.append(math.atan2(math.sin(deltaL)*math.cos(phi2),math.cos(phi1)*math.sin(phi2)-math.sin(phi1)*math.cos(phi2)*math.cos(deltaL)))"
   ]
  },
  {
   "cell_type": "code",
   "execution_count": 178,
   "metadata": {},
   "outputs": [],
   "source": [
    "dfg = pd.DataFrame({'speed':speed})"
   ]
  },
  {
   "cell_type": "code",
   "execution_count": 179,
   "metadata": {},
   "outputs": [],
   "source": [
    "dfg['angle'] = angle"
   ]
  },
  {
   "cell_type": "code",
   "execution_count": 180,
   "metadata": {},
   "outputs": [
    {
     "data": {
      "text/html": [
       "<div>\n",
       "<style scoped>\n",
       "    .dataframe tbody tr th:only-of-type {\n",
       "        vertical-align: middle;\n",
       "    }\n",
       "\n",
       "    .dataframe tbody tr th {\n",
       "        vertical-align: top;\n",
       "    }\n",
       "\n",
       "    .dataframe thead th {\n",
       "        text-align: right;\n",
       "    }\n",
       "</style>\n",
       "<table border=\"1\" class=\"dataframe\">\n",
       "  <thead>\n",
       "    <tr style=\"text-align: right;\">\n",
       "      <th></th>\n",
       "      <th>speed</th>\n",
       "      <th>angle</th>\n",
       "    </tr>\n",
       "  </thead>\n",
       "  <tbody>\n",
       "    <tr>\n",
       "      <th>0</th>\n",
       "      <td>180.024226</td>\n",
       "      <td>-1.590252</td>\n",
       "    </tr>\n",
       "    <tr>\n",
       "      <th>1</th>\n",
       "      <td>295.807700</td>\n",
       "      <td>-0.000000</td>\n",
       "    </tr>\n",
       "    <tr>\n",
       "      <th>2</th>\n",
       "      <td>472.072418</td>\n",
       "      <td>1.389402</td>\n",
       "    </tr>\n",
       "    <tr>\n",
       "      <th>3</th>\n",
       "      <td>129.181808</td>\n",
       "      <td>-3.094725</td>\n",
       "    </tr>\n",
       "    <tr>\n",
       "      <th>4</th>\n",
       "      <td>183.940889</td>\n",
       "      <td>-1.543869</td>\n",
       "    </tr>\n",
       "  </tbody>\n",
       "</table>\n",
       "</div>"
      ],
      "text/plain": [
       "        speed     angle\n",
       "0  180.024226 -1.590252\n",
       "1  295.807700 -0.000000\n",
       "2  472.072418  1.389402\n",
       "3  129.181808 -3.094725\n",
       "4  183.940889 -1.543869"
      ]
     },
     "execution_count": 180,
     "metadata": {},
     "output_type": "execute_result"
    }
   ],
   "source": [
    "dfg.head()"
   ]
  },
  {
   "cell_type": "code",
   "execution_count": 181,
   "metadata": {},
   "outputs": [
    {
     "name": "stdout",
     "output_type": "stream",
     "text": [
      "[-1.5902517181798588, -0.0, 1.3894022164055144, -3.0947249867096507, -1.5438692412112762, 1.59067821771086, 3.025208951107452, -0.02842878633605359, -0.23801279022124006, -3.1322580556333657, 0.27330914304983156, -0.37277678170076045, -0.0, 0.03215834669931137, 0.19512411142033118, 0.6060094639108322, 0.254745794401629, -0.29122758399955856, -1.0633389465774694, 1.5707941395889873, -2.0782449582659304, -1.5707897653037368, -1.5707919524660858, -1.570794139630492, -1.5707941396304905, -1.39868620708096, -0.0, 1.5707766402972403, 1.9257737534638593, 1.5707657039836174, -1.5707919521062608, -3.141592653589793, -0.0, 1.6291753170351233, -1.340780380132375, -0.0, 2.920457246615128, 2.0782395507821896, -1.652923993153175, -1.2487762793630208, 1.5707328990446494, -1.0117779775300675, 1.9257653855552346, -1.7896363523876657, 1.9257737534638593, -3.141592653589793, 2.116005229736276, -2.129718445326738, 0.29123962427430783, 1.6276740882141323, -1.1927277608207336, -2.3181331670227365, -0.0, 0.8437514256516986, -0.7323502042054431, -2.4092194988613596, 2.8503767507289903, 0.7323760381250883, -2.124121169244685, 1.4680772100616915, -1.570794139856524, -2.078232563289658, -2.5282670705573795, 0.5400689834808579, -2.4471504978917187, 0.30396080399159686, 2.7737371809393245, 1.4282127270852583, -1.905216646841944, -1.989311526054832, -1.9257579024981406, -0.7102977472850086, 2.234761100040239, -0.34528522330451794, -1.215807360091534, -2.4091943316106197, 1.570789765034131, 1.5707919522877192, 1.5707919522877192, 1.5100926903660659, -1.6529263737985558, -1.535988582497588, -2.015510014220647, 1.2158079341062564, 2.9010765122460414, -0.732424408835183, 0.028078067433756456, -2.3899680287629597, -2.723388721463667, -2.9678174107526014, -3.0872114924353866, 2.926692963803361, 3.0354465846605443, 3.1210064942923577, 1.1259615744216307, -1.0360140826371276, -0.20149012842400826, 0.12800876548729376, -0.0, -0.3221054824247566, 0.7869216050164304, 0.7281691238421923, -3.1357147460596746, -0.0, -0.4225694176311426, -0.0, -1.0633658003335151, -1.5707941401717083, -1.5707941401717083, -0.0, 1.5707941401240384, -1.7667503724277156, 1.2288817637611176, 1.5707832059703055, -0.0, -1.503432064884953, 1.3519228696163572, 2.0782150680579954, -0.8756554309129247, 2.4091725660521965, -1.5707897662473032, -1.2158232138323353, -2.4091735444251867, -1.5707919530965007, -0.0, -0.0, -1.3368409269465653, 1.7702414862894995, -0.0, -2.078226366656356, -0.7324161767617317, 1.3519468002569854, -0.73240892200233, 0.7324074819331005, 0.7323982699469165, 0.12776033540950993, 2.4984715269538076, -1.570794139856524, 1.570791952915066, -0.0, -1.570789765977723, -1.693669939129872, 1.0633446604028547, 1.5707832051605441, -0.47466649456947674, 1.570778828764628, 2.044955335363164, -1.5707788309234836, -0.7324074819331005, -1.5707941397673486, -0.0, 2.4091807976435184, -0.0, -2.4091783800784365, -0.0, -3.141592653589793, -3.141592653589793, -1.570794139945698, -0.0, -0.7324147350696874, 1.622377110011458, -1.2697930911483488, 1.9749312165006105, -2.409182239307332, -2.548211105215625, -2.9204448615185474, -2.4091614542306625, -2.9928118941963544, -1.485441600507818, -2.4888616210621723, 0.31607664242469646, 0.976911590682241, -1.570787579759419, -0.0, -2.625009355734933, 0.5079645284230065, -1.2158158611514798, -2.409175961163238, 0.7324123185925637, 1.9051673375905063, -1.253267369168151, 2.029796636947126, -0.0, 1.8419435244792997, 1.4783663066449533, 1.5707875788599681, 1.57079195282589, 1.57079195282589, -2.4091681921899974, -1.2487835822108213, -1.5152091727888772, 2.409178380431715, 1.570765709649223, -2.320378542140204, -2.5674614337671295, -2.9912087017931364, -3.0915114081250996, 2.9528563073312752, 1.1541519531447284, -2.940684748786292, -0.0, -0.04020023462015726, 0.9081199334280509, 0.2872821002579312, -1.7774955362036913, 1.636077302744239, 1.111762447693492, 2.078232563289658, -1.9257563184485842, 2.7190334136903367, -2.40916628963207, -1.5707919533670998, -1.5707941400825423, -0.0, -0.0, -0.0, 1.719865559896117, -1.7896032637993258, -1.7601469272445742, 0.5120602981167264, 0.8234213377156673, 2.159159905372083, -1.1292050404586733, 1.9465729788898332, -2.9204511064349776, 1.9257579024981406, 1.6963964635685558, -1.3195156176997536, -2.5623758420497285, -0.7324224530596165, 0.3160378534583528, 0.4785125813493176, -2.816376251355427, -2.719076713471108, -0.0, 2.4091733799942823, -1.7540146984421798, -1.5707832048909582, 2.2659097838511437, -2.078216830388459, -2.4091590371447067, -2.0782160403466916, -1.215834309631369, -1.5707919536346007, -0.0, -2.078212700384533, 1.299624182437517, 3.0997804137461147, 0.422580644404357, -0.6911507710778334, 0.2912222321682119, -3.141592653589793, -2.441084538418026, 1.083782305562227, -1.4478263792548103, 1.5707438445759325, -1.432664974017108, -1.989302497086354, -1.0633596046099767, -0.4225548662921551, -0.7324147354229659, -0.7324123182392852, -0.0, -0.0, -1.5707941398565255, 1.5707941398565255, 2.2978084264055565, -1.2158327240179305, -1.5707897669212172, -0.0, 1.5707897667864381, 1.0633616708637899, 1.351926994954776, -1.8419397597060883, -0.2055119167031734, -2.514975454559189, -2.7976551122665665, -3.019272286639633, 3.1385164455334587, -3.0777057161414794, -2.7710743645434808, 0.2098855645851239, 1.2291005353084294, -3.0740307758360137, -0.08751697315605178, 0.15088445012529875, -0.041369361618404064, 3.0755661280270084, -0.1456978278663995, 2.756194792198878, -3.028390475629212, -2.193637487054214, 0.5227856009292673, -2.0583643177914235, -0.8778033382239895, -0.0, 1.476684254047796, 1.83767915595431, 0.05022634681054812, 2.650099360580874, -2.8865535586931537, -2.951413156559987, 1.7880086585253854, -1.5952086634229952, -2.4135201805437294, -0.09138654498290376, -1.0568171906393407, -0.5494620492309126, 0.9598976762930174, 1.841217260219183, 0.36846239672541964, 1.6628528128342601, 0.2591857082963656, -1.5707613408075578, 1.5707941401717083, -1.0633637355509353, -1.063361670712904, -0.0, -0.0, -0.0, -0.0, -0.0, 1.5707941399933705, -0.0, -0.0, 0.732417154304525, 1.5707941399456995, -0.466466637439148, 2.88302809415387, 2.3721438288104904, -0.5400755833292246, 1.4854395330953634, -1.6190548897576653, 1.6631698431806905, 1.789604293775444, -0.5791587575186418, -2.6782699149815774, 1.7540400719688343, 0.7324074819331005, -1.126041431242681, 1.740209174057889, -2.0782333535419037, -3.141592653589793, -1.5707919529150645, -1.5707941398565255, 2.2086961406033727, 0.7324156617934449, -1.892760955153662, -1.4132431248471975, -0.7324151990278526, -0.0, -0.0, -0.0, -0.0, -2.4091759615165165, 2.850348475660326, -2.920439658225242, 1.0633719974958553, -2.7667160688026655, 0.7990890410226342, -1.94871577174395, 0.7962139298796682, 1.7088735405756301, -1.5707919535454349, -1.5707941401717098, -0.7324268264214788, -0.4225585041041865, -0.0, -1.5707941399933705, -2.4562170426898957, -0.31605078561920685, 1.5707919531856729, 1.5707919531856729, -1.570794139993372, 1.570794139993372, 1.570794139993372, 2.136837217664176, 1.2411048664712827, -0.0, 1.5707919531856729, -1.6151919762279687, 1.6560975058239702, -2.477092984795331, -2.9440601832757194, -3.114632119185704, -2.0929115267337908, -1.6745946014182715, 1.563044786444117, 1.3759006551624595, 2.377887850903588, 2.932902168196089, -0.2214388178880195, -0.20118061625640501, -0.9629268875011596, 1.4972959350395267, 0.5741580373687216, -0.0, -1.534537478543207, -0.5159878921513937, -1.7171138360084017, -1.6143716955091254, 1.8808083603934846, 0.2608888702698525, -1.5706848020780864, 1.3032283779001035, -2.1951825715138535, -0.0, 0.5598300057716677, -2.409178788833398, 0.5933571515504543, -1.1328368023395339, -2.3181719650026498, -0.8233752485491862, -1.3195455185561218, 2.294125163094024, 1.371280889725694, -0.0, 1.4941916806127813, -2.3769576105008703, -0.14876269670199646, 2.356594913289648, -1.9040847323251056, 2.3472932211410336, 1.0324119406448786, -1.11360202728404, 2.850351331097066, -1.3352856772051203, 1.9748602887704476, 1.3652118274007916, 0.8437514256516986, 0.4225512277881308, -0.9203314506627973, -2.992821826013024, -0.9470270988698255, -0.0, 1.9578999238511214, -0.3252247066899741, -1.5901796558203998, 1.65820129481653, 2.9204488138577873, 0.1417420046696278, -2.3309304503174104, -2.409180797996797, 1.3731307991196056, 0.7323755221144583, 2.7506212344908176, 1.0255346683747373, -1.5707263418696293, 1.8784130269800012, -1.2431675760035656, -1.1260062768232382, 1.918576269551835, -1.570794139767347, -1.3247095607289965, 1.8927544090262287, -1.8419460345161789, -1.898254280147536, 1.32840099895396, -1.7502863731136808, -0.0, -1.593994575966543, 1.4289277174336752, -0.0, 2.3017567037324684, -1.2032477368460055, 0.8437296849933107, -0.0, 1.9595939685205763, -1.7283241879916724, 2.409171588221733, 0.574536551359301, -2.3684930757622635, -2.805509907753059, -2.9275473126323357, -3.0883212238438063, -2.836864612861761, 0.48105821599612353, -2.449994194329419, 1.5300944963989287, 0.08501825118293391, -0.05136897602094305, 0.17825200107179773, 0.3115506506100551, 0.7316116586053796, 1.328506200115519, 0.37674192692571534, -0.0, -3.141592653589793, -1.8502056448842297, 2.601510951811718, -0.7324210127947741, 1.5707919532748422, 1.4478251939484283, 0.8437417636676896, -2.850356681638003, -2.409170148153965, 1.1522264539772062, -1.7896301673768449, -1.4854059306045395, -0.4225366734846679, -3.141592653589793, 2.685542003008414, 0.540076905893779, 2.7388508878051554, -0.8995856727932137, 0.5331085410698032, -2.1521060244841044, -2.1368394187246342, -0.982419861940644, 1.5336811553826315, 1.5707919530965007, 1.5707941399456995, -1.5707853925501387, -0.9822964370436745, 2.4235114639156348, -0.0, 1.5707832078582433, -1.9892898587557095, 1.2158317120896596, 1.5707941403023684, -1.5707941403023684, -2.4091517823787294, -0.0, -3.141592653589793, -1.0412507189081983, 0.29121901600955435, 2.376977042874614, -0.0, -1.6360769868429421, 1.7283189150592069, 1.5707941401240384, -2.4091614542306625, 1.3148132798687346, -1.9368859515910477, -0.7324214756759378, -0.3452728756898616, -2.7190603352606915, 1.7949857700994885, -1.8784144303498185, 1.4769417726895802, -1.0002997157042488, -2.453069205228066, 0.2991061726650665, -0.8437815473081163, -0.3933926730369016, 2.3503798908572446, 2.601524158918367, -2.6407021822706116, 1.0633522663611144, 1.3676606205806299, -1.6936840068333296, -0.9328799971668449, -0.42256577977212223, 2.5179197911360722, -0.20461984133196023, 2.159157660069392, -1.7540357159703446, -0.0, -0.6236346205151042, -2.7613502403481562, -1.5707919536346022, 0.9634250467725809, 1.4013022307839085]\n"
     ]
    }
   ],
   "source": [
    "print(angle)"
   ]
  },
  {
   "cell_type": "code",
   "execution_count": 182,
   "metadata": {},
   "outputs": [],
   "source": [
    "dfg.to_excel('C:\\\\Users\\\\DELL\\\\Desktop\\\\ProjectDemo\\\\SpeedAndDirectionsDumpedData.xlsx')"
   ]
  },
  {
   "cell_type": "code",
   "execution_count": 183,
   "metadata": {},
   "outputs": [],
   "source": [
    "dataset = pd.read_csv('C:\\\\Users\\\\DELL\\\\Desktop\\\\ProjectDemo\\\\SpeedAndDirectionDumpedData.csv')\n",
    "dfn = pd.DataFrame(dataset)"
   ]
  },
  {
   "cell_type": "code",
   "execution_count": 184,
   "metadata": {},
   "outputs": [],
   "source": [
    "dfn['greenDriveValue'].fillna(value=0, inplace = True)\n",
    "dfn['greenDriveType'].fillna(value=0, inplace = True)"
   ]
  },
  {
   "cell_type": "code",
   "execution_count": 185,
   "metadata": {},
   "outputs": [],
   "source": [
    "dfn['HA']= dfn['greenDriveValue']*0\n",
    "dfn['HB']= dfn['greenDriveValue']*0\n",
    "dfn['HC']= dfn['greenDriveValue']*0"
   ]
  },
  {
   "cell_type": "code",
   "execution_count": 186,
   "metadata": {},
   "outputs": [],
   "source": [
    "for index, row in dfn.iterrows():\n",
    "    if dfn.loc[index,'greenDriveType'] == 3:\n",
    "        dfn.loc[index,'HC'] = dfn.loc[index,'greenDriveValue']\n",
    "    if dfn.loc[index,'greenDriveType'] == 2:\n",
    "        dfn.loc[index,'HB'] = dfn.loc[index,'greenDriveValue']\n",
    "    if dfn.loc[index,'greenDriveType'] == 1:\n",
    "        dfn.loc[index,'HA'] = dfn.loc[index,'greenDriveValue']"
   ]
  },
  {
   "cell_type": "code",
   "execution_count": 187,
   "metadata": {},
   "outputs": [],
   "source": [
    "for index, row in dfn.iterrows():\n",
    "    if dfn.loc[index,'speed'] >= 35:\n",
    "        dfn.loc[index,'OS'] = (dfn.loc[index,'speed']*2 - 70)*50/35\n",
    "    else:\n",
    "        dfn.loc[index,'OS'] = 0"
   ]
  },
  {
   "cell_type": "code",
   "execution_count": 188,
   "metadata": {},
   "outputs": [],
   "source": [
    "import datetime\n",
    "\n",
    "for index, row in dfn.iterrows():\n",
    "    #if df.loc[index,'speed'] >= 50:\n",
    "     dfn.loc[index,'Time'] =datetime.datetime.fromtimestamp(dfn.loc[index, 'timestamp']).strftime('%H:%M:%S')\n",
    "\n",
    "dfn['Time'].str.split(':').head()\n",
    "dfn['Time']= dfn['Time'].str.split(':').apply(lambda x: (int(x[0]) * 3600 + int(x[1])*60 + int(x[2]))/60)"
   ]
  },
  {
   "cell_type": "code",
   "execution_count": 189,
   "metadata": {},
   "outputs": [],
   "source": [
    "for index, row in dfn.iterrows():\n",
    "    dfn.loc[index,'acc'] = 0\n",
    "for index, row in dfn.iterrows():\n",
    "     if(dfn.iloc[index-1, 51] - dfn.iloc[index, 51]) != 0:\n",
    "         dfn.iloc[index,52] =(int)(dfn.iloc[index-1, 2] - dfn.iloc[index, 2])/(dfn.iloc[index-1, 51] - dfn.iloc[index, 51])"
   ]
  },
  {
   "cell_type": "code",
   "execution_count": 190,
   "metadata": {},
   "outputs": [],
   "source": [
    "for index, row in dfn.iterrows():\n",
    "    dfn.loc[index,'v*a']= dfn.loc[index,'acc']*dfn.loc[index,'speed']"
   ]
  },
  {
   "cell_type": "code",
   "execution_count": 191,
   "metadata": {},
   "outputs": [],
   "source": [
    "dfn['HA']= (dfn['HA']-np.mean(dfn['HA']))/np.std(dfn['HA'])\n",
    "dfn['HB']= (dfn['HB']-np.mean(dfn['HB']))/np.std(dfn['HB'])\n",
    "dfn['HC']= (dfn['HC']-np.mean(dfn['HC']))/np.std(dfn['HC'])\n",
    "dfn['OS']= (dfn['OS']-np.mean(dfn['OS']))/np.std(dfn['OS'])\n",
    "dfn['v*a']= (dfn['v*a']-np.mean(dfn['v*a']))/np.std(dfn['v*a'])"
   ]
  },
  {
   "cell_type": "code",
   "execution_count": 192,
   "metadata": {},
   "outputs": [],
   "source": [
    "df1 = dfn[['v*a','HA','HB','HC','OS']]"
   ]
  },
  {
   "cell_type": "code",
   "execution_count": 193,
   "metadata": {},
   "outputs": [
    {
     "data": {
      "image/png": "[encoded data removed]",
      "text/plain": [
       "<Figure size 432x288 with 1 Axes>"
      ]
     },
     "metadata": {
      "needs_background": "light"
     },
     "output_type": "display_data"
    }
   ],
   "source": [
    "from sklearn.cluster import KMeans\n",
    "wcss = []\n",
    "for i in range(1, 11):\n",
    "    kmeans = KMeans(n_clusters = i, init = 'k-means++')\n",
    "    kmeans.fit(df1)\n",
    "    wcss.append(kmeans.inertia_)\n",
    "plt.plot(range(1,11),wcss)\n",
    "plt.show()"
   ]
  },
  {
   "cell_type": "code",
   "execution_count": 194,
   "metadata": {},
   "outputs": [],
   "source": [
    "from sklearn.cluster import KMeans\n",
    "kmeans = KMeans(n_clusters=5)"
   ]
  },
  {
   "cell_type": "code",
   "execution_count": 195,
   "metadata": {},
   "outputs": [
    {
     "data": {
      "text/plain": [
       "KMeans(algorithm='auto', copy_x=True, init='k-means++', max_iter=300,\n",
       "    n_clusters=5, n_init=10, n_jobs=1, precompute_distances='auto',\n",
       "    random_state=None, tol=0.0001, verbose=0)"
      ]
     },
     "execution_count": 195,
     "metadata": {},
     "output_type": "execute_result"
    }
   ],
   "source": [
    "kmeans.fit(df1[['HA','HB','HC','OS','v*a']])"
   ]
  },
  {
   "cell_type": "code",
   "execution_count": 196,
   "metadata": {},
   "outputs": [],
   "source": [
    "a = kmeans.labels_"
   ]
  },
  {
   "cell_type": "code",
   "execution_count": 197,
   "metadata": {},
   "outputs": [],
   "source": [
    "ans = pd.Series(data = a)"
   ]
  },
  {
   "cell_type": "code",
   "execution_count": 198,
   "metadata": {},
   "outputs": [
    {
     "data": {
      "text/plain": [
       "dtype('int32')"
      ]
     },
     "execution_count": 198,
     "metadata": {},
     "output_type": "execute_result"
    }
   ],
   "source": [
    "ans.dtype"
   ]
  },
  {
   "cell_type": "code",
   "execution_count": 199,
   "metadata": {},
   "outputs": [],
   "source": [
    "df1['Behavior'] = ans\n",
    "pd.options.mode.chained_assignment = None"
   ]
  },
  {
   "cell_type": "code",
   "execution_count": 202,
   "metadata": {},
   "outputs": [],
   "source": [
    "df1.to_excel('C:\\\\Users\\\\DELL\\\\Desktop\\\\ProjectDemoOutputs\\\\Results.xlsx', sheet_name = 'sheet1')"
   ]
  },
  {
   "cell_type": "code",
   "execution_count": null,
   "metadata": {},
   "outputs": [],
   "source": []
  }
 ],
 "metadata": {
  "kernelspec": {
   "display_name": "Python 3",
   "language": "python",
   "name": "python3"
  },
  "language_info": {
   "codemirror_mode": {
    "name": "ipython",
    "version": 3
   },
   "file_extension": ".py",
   "mimetype": "text/x-python",
   "name": "python",
   "nbconvert_exporter": "python",
   "pygments_lexer": "ipython3",
   "version": "3.7.0"
  }
 },
 "nbformat": 4,
 "nbformat_minor": 2
}
